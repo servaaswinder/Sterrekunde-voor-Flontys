{
 "cells": [
  {
   "attachments": {},
   "cell_type": "markdown",
   "metadata": {},
   "source": [
    "# HR-diagram zelfmaken\n",
    "Binnen de sterrekunde worden veel sterren bestudeerd. Dat zijn er te veel om een voor een af te gaan. Daarom worden vergelijkbare sterren gecatoriceerd. Dat wordt gedaan doormiddel van python. Binnen de python omgeving kun je met veel data tegelijk werken. Zo kun je van duizenden sterren in een keer de afstand berekenen of de kleur bepalen en je kunt al deze data vormgeven door een diagram te maken. Een wel bekend diagram is het HR-diagram (Hertz-Ruzzel). In een HR diagram staat de kleur van de ster op de x-as en de magnitude op de y-as. Uit dit diagram kun je ook de grootte van de ster halen en de levensfase van de ster. In de binas staat ook een HR-diagram. In deze python-notebook maak je zelf een beter HR-diagram. \n",
    "\n",
    "# Conpecten\n",
    "- Je leert over magnitudes, paralax, parsec, kleurenfilters, levensloop van een ster, ...\n",
    "- Je leert hoe je data kan opvragen van een server, je leert slimme keuzes te maken binnen python, ...\n",
    "\n",
    "# Leerdoelen\n",
    "- Je leert hoe je met python en echte data een HR-dragram kan maken\n",
    "- Je leert informatie op te zoeken over pythonvaardigheden\n",
    "- Je leert over bovenstaande natuurkundige concepten\n",
    "\n",
    "# Hulpmiddelen\n",
    "Jullie hebben vorig jaar al geleerd hoe je kunt modelren in python. Voor deze module heb je nog veel meer kennis nodig van sterrekunde specifieke mogelijkheden in python. Als je hier hulp bij nodig hebt, kun je uiteraard de docent om hulp vragen, maar het is ook toegestaan om AI als chatGTP te gebruiken. "
   ]
  },
  {
   "attachments": {},
   "cell_type": "markdown",
   "metadata": {},
   "source": [
    "# Importeren bibliotheken\n",
    "In deze module heb je de volgende bibliotheken nodig: \n",
    "- Numpy voor het verwerken van data\n",
    "- Matplotlib voor het genereren van diagrammen\n",
    "- Pandas voor het verwerken van grote data\n",
    "- Astropy voor het werken met astronomische eenheden, coordianten en contact met de server om data van de Gaia sataliet te verkrijgen"
   ]
  },
  {
   "cell_type": "code",
   "execution_count": null,
   "metadata": {},
   "outputs": [],
   "source": [
    "import numpy as np\n",
    "import matplotlib.pyplot as plt\n",
    "import pandas as pd\n",
    "from astropy import units as u\n",
    "from astropy.coordinates import Distance, SkyCoord\n",
    "from astroquery.gaia import Gaia\n",
    "import matplotlib.colors as mcolors"
   ]
  },
  {
   "attachments": {},
   "cell_type": "markdown",
   "metadata": {},
   "source": [
    "# Magnitude\n",
    "\n",
    "Magnitude in de astronomie is een maat voor de helderheid van een object in het universum. Het systeem is logaritmisch, wat betekent dat een verschil van één magnitude-eenheid een helderheidsverschil van ongeveer 2,5 keer vertegenwoordigt. Ook is het systeem omgekeerd, wat betekent dat een helderder object een lagere magnitude heeft dan een minder helder object.\n",
    "\n",
    "Er zijn twee soorten magnitudes die vaak worden gebruikt: schijnbare magnitude en absolute magnitude.\n",
    "\n",
    "- Schijnbare magnitude (m) is een maat voor hoe helder een ster aan de nachtelijke hemel lijkt vanaf de aarde.\n",
    "- Absolute magnitude (M) is een maat voor de intrinsieke helderheid van een ster, d.w.z. hoe helder het zou zijn als het op een standaardafstand van 10 parsecs (ongeveer 32,6 lichtjaar) van de waarnemer zou zijn.\n",
    "\n",
    "De absolute magnitude wordt berekend met de formule:\n",
    "\n",
    "$$ M = m - 5 \\log_{10}(d / 10) $$\n",
    "\n",
    "waarbij $M$ de absolute magnitude is, $m$ de schijnbare magnitude, $d$ de afstand tot het object in parsecs, en $\\log_{10}$ de logaritme met basis 10.\n"
   ]
  },
  {
   "cell_type": "code",
   "execution_count": null,
   "metadata": {},
   "outputs": [],
   "source": [
    "# Functie om absolute magnitude te berekenen\n",
    "def absolute_magnitude(m, d):\n",
    "    return                              # Noteer hier achter return de juiste formule (Je hoeft 'M =' niet te noteren)."
   ]
  },
  {
   "attachments": {},
   "cell_type": "markdown",
   "metadata": {},
   "source": [
    "Dit is een Python-functie die de absolute magnitude berekent. Het neemt de schijnbare magnitude (m) en de afstand tot het object in parsecs (d) als invoer en retourneert de berekende absolute magnitude.\n",
    "\n",
    "De functie gebruikt de formule voor de absolute magnitude die hierboven is beschreven. Het gebruikt de functie np.log10 van de numpy-bibliotheek om de logaritme met basis 10 te berekenen. De formule wordt vervolgens toegepast en het resultaat wordt geretourneerd."
   ]
  },
  {
   "attachments": {},
   "cell_type": "markdown",
   "metadata": {},
   "source": [
    "# Hyaden sterrenhoop selecteren\n",
    "\n",
    "Deze code maakt een object hyades_center dat de coördinaten in de hemel van het centrum van de Hyaden-sterrenhoop voorstelt.\n",
    "\n",
    "De Hyaden is een open sterrenhoop in het sterrenbeeld Taurus en is het dichtstbijzijnde open cluster aan de aarde. De coördinaten van het centrum van de Hyaden zijn ongeveer 66,75 graden in rechte klimming (RA) en 15,87 graden in declinatie (dec).\n",
    "\n",
    "De Hyaden-sterrenhoop wordt vaak gebruikt in astronomische studies vanwege een paar belangrijke eigenschappen:\n",
    "\n",
    "- Nabijheid tot de aarde: De Hyaden is de dichtstbijzijnde open sterrenhoop tot de aarde, op ongeveer 150 lichtjaar afstand. Dit maakt observaties relatief gemakkelijk en zorgt voor een hoge kwaliteit van gegevens.\n",
    "- Leeftijd en samenstelling: De Hyaden zijn ongeveer 625 miljoen jaar oud en bevatten sterren van verschillende massa's en ontwikkelingsstadia. Dit maakt het een uitstekend laboratorium voor het bestuderen van stellaire evolutie.\n",
    "- Goed bestudeerd: Vanwege de hierboven genoemde redenen is de Hyaden een van de meest bestudeerde sterrenhopen. Er is een schat aan gegevens beschikbaar, waaronder nauwkeurige afstanden, radiale snelheden, en lidmaatschappen van sterren.\n",
    "In het kader van een Hertzsprung-Russell (HR) diagram zijn de sterren in een cluster zoals de Hyaden bijzonder nuttig omdat ze allemaal ongeveer dezelfde leeftijd en chemische samenstelling hebben en op dezelfde afstand staan. Dit maakt het gemakkelijker om patronen te herkennen en de eigenschappen van sterren te vergelijken.\n",
    "\n",
    "Laten we de verschillende delen van de code eens nader bekijken:\n",
    "\n",
    "- *SkyCoord*: Dit is een klasse in de \\emp{astropy.coordinates} module die wordt gebruikt om hemelcoördinaten te vertegenwoordigen. Hemelcoördinaten worden gebruikt om de posities van objecten in de ruimte te beschrijven.\n",
    "- *ra=... * u.deg, dec=... * u.deg*: Dit zijn de coördinaten in rechte klimming en declinatie van het centrum van de Hyaden, uitgedrukt in graden. De *u.deg* zorgt ervoor dat de getallen worden geïnterpreteerd als graden (de eenheid *deg* is afkomstig van de *astropy.units* module, die hier wordt aangeduid met *u*).\n",
    "- *frame='icrs'*: Dit geeft het coördinatenstelsel aan waarin de coördinaten worden uitgedrukt. ICRS staat voor International Celestial Reference System, een modern coördinatenstelsel dat veel wordt gebruikt in de astronomie. Het is gebaseerd op de positie van verre quasars en is zeer stabiel en nauwkeurig.\n",
    "Samengevat maakt deze code dus een SkyCoord-object dat de positie van het centrum van de Hyaden voorstelt in het ICRS-coördinatenstelsel."
   ]
  },
  {
   "cell_type": "code",
   "execution_count": null,
   "metadata": {},
   "outputs": [],
   "source": [
    "# Coördinaten van het centrum van de Hyaden\n",
    "hyades_center = SkyCoord(ra=... * u.deg, dec=... * u.deg, frame='icrs') # Vul hier de juiste coördinaten in bij ra=... en dec=..."
   ]
  },
  {
   "attachments": {},
   "cell_type": "markdown",
   "metadata": {},
   "source": [
    "# Data downloaden van de server\n",
    "\n",
    "Dit stuk code maakt een SQL-query aan om gegevens van de Gaia Early Data Release 3 (Gaia EDR3) te downloaden. De SQL-query wordt gebruikt om specifieke gegevens uit een database te selecteren.\n",
    "\n",
    "Laten we elk onderdeel van deze SQL-query eens nader bekijken:\n",
    "\n",
    "- *SELECT phot_g_mean_mag*, *parallax*, *bp_rp*: Dit vertelt de database dat we geïnteresseerd zijn in drie specifieke kolommen: *phot_g_mean_mag* (gemiddelde G-band magnitude), *parallax* (parallax in milliboogseconden), en *bp_rp* (kleurindex, een verschil tussen de magnitude in de blauwe (BP) en rode (RP) photometrische banden van Gaia).\n",
    "- *FROM gaiaedr3.gaia_source*: Dit geeft aan uit welke tabel de gegevens moeten worden opgehaald. In dit geval wordt de *gaia_source* tabel van de *gaiaedr3* database gebruikt.\n",
    "De *WHERE*-clausule wordt gebruikt om bepaalde voorwaarden op te leggen aan de gegevens die worden geselecteerd. De voorwaarden hier zijn dat de parallax moet een relatieve fout kleiner dan 10% hebben (*parallax_over_error > 10*), en dat de *phot_g_mean_mag*, *parallax*, en *bp_rp* waarden niet NULL mogen zijn (d.w.z., ze moeten bestaan voor elke geselecteerde ster).\n",
    "- De *CONTAINS(POINT('ICRS', ra, dec), CIRCLE('ICRS', {hyades_center.ra.deg}, {hyades_center.dec.deg}, 5)) = 1* clausule is een ruimtelijke selectie voorwaarde. Het selecteert sterren waarvan de positie (gegeven door de rechte klimming ra en declinatie dec) ligt binnen een cirkel op de hemel met een straal van 5 graden rond het centrum van de Hyaden (*hyades_center*). Het 'ICRS' geeft aan dat de coördinaten worden uitgedrukt in het International Celestial Reference System.\n",
    "\n",
    "In het algemeen zal deze query dus sterren selecteren uit de Gaia EDR3 catalogus die binnen 5 graden van het centrum van de Hyaden liggen, en die betrouwbare metingen hebben van de G-band magnitude, parallax, en BP-RP kleurindex."
   ]
  },
  {
   "cell_type": "code",
   "execution_count": null,
   "metadata": {},
   "outputs": [],
   "source": [
    "# Query om Gaia DR3 data te downloaden\n",
    "query = f\"\"\"\n",
    "SELECT\n",
    "    phot_g_mean_mag, parallax, bp_rp, ra, dec\n",
    "FROM\n",
    "    gaiaedr3.gaia_source\n",
    "WHERE\n",
    "    parallax_over_error > 10 AND\n",
    "    phot_g_mean_mag IS NOT NULL AND\n",
    "    parallax IS NOT NULL AND\n",
    "    bp_rp IS NOT NULL AND\n",
    "    CONTAINS(POINT('ICRS', ra, dec),\n",
    "             CIRCLE('ICRS', {hyades_center.ra.deg}, {hyades_center.dec.deg}, 5)) = 1\n",
    "\"\"\""
   ]
  },
  {
   "attachments": {},
   "cell_type": "markdown",
   "metadata": {},
   "source": [
    "De code hieronder activeerd de *Query* en zal de data gaan downloaden. Dit kan even duren. "
   ]
  },
  {
   "cell_type": "code",
   "execution_count": null,
   "metadata": {},
   "outputs": [],
   "source": [
    "# Download Gaia DR3 data met behulp van astroquery\n",
    "job = Gaia.launch_job_async(query)\n",
    "gaia_data = job.get_results()"
   ]
  },
  {
   "attachments": {},
   "cell_type": "markdown",
   "metadata": {},
   "source": [
    "Laten we even kijken naar de data die gewoanload is. Met de *print()* functie kan worden weergegeven wat er zojuist is gedownload. "
   ]
  },
  {
   "cell_type": "code",
   "execution_count": null,
   "metadata": {},
   "outputs": [],
   "source": [
    "# Schrijf hier: print(gaia_data)"
   ]
  },
  {
   "attachments": {},
   "cell_type": "markdown",
   "metadata": {},
   "source": [
    "# Informatie verduidelijken\n",
    "\n",
    "De gedownloadde informatie is op het moment niet bruikbaar voor de code. Deze moeten we eerst omzetten. Dat doen we met de *.to_pandas()* functie. Deze zal de data omzetten naar een *Pandas dataframe (df)*. Pandas is een populaire library voor werken met grote data. Je ziet dat er data van meer dan 80 duizend sterren is gedownload. "
   ]
  },
  {
   "cell_type": "code",
   "execution_count": null,
   "metadata": {},
   "outputs": [],
   "source": [
    "# Converteer de data naar een Pandas DataFrame\n",
    "gaia_df = gaia_data.to_pandas()"
   ]
  },
  {
   "attachments": {},
   "cell_type": "markdown",
   "metadata": {},
   "source": [
    "Hoe ziet de verwerkte data eruit? Alle rijen hebben een nummer gekregen, daarnaast zijn er drie kolommen. Dat zijn de vijf varabelen waar we in onze *query* om ehbben gevraagd onder het kopje *SELECT*. "
   ]
  },
  {
   "cell_type": "code",
   "execution_count": null,
   "metadata": {},
   "outputs": [],
   "source": [
    "# Bedenk nu zelf hoe je de print functie kan gebruiken om de nieuwe panda_df zichtbaar te maken"
   ]
  },
  {
   "attachments": {},
   "cell_type": "markdown",
   "metadata": {},
   "source": [
    "# Beeld maken\n",
    "\n",
    "Laten we eerst een beeld maken van de sterrenhoop. We hebben erg veel sterren geselecteerd, hoe ziet deze sterrenhoop aan de hemel er daadwerkelijk uit? \n",
    "Maak een plot met de *ra* en *dec* op de x- en y-as. Je selecteerd de juiste data door eerst *gaia_df* te typen en aansluiten in vierkante haken de naam van de kolom die je wil selecteren. Bijvoorbeeld: *gaia_df['ra']*"
   ]
  },
  {
   "cell_type": "code",
   "execution_count": null,
   "metadata": {},
   "outputs": [],
   "source": [
    "plt.figure(figsize=(5,5))\n",
    "plt.plot(gaia_df['ra'], ...)            # Vul de ontbrekende as in. \n",
    "plt.show()"
   ]
  },
  {
   "attachments": {},
   "cell_type": "markdown",
   "metadata": {},
   "source": [
    "Wat had je verwacht? Het zijn 80 duizend sterren. het hele figiir staat vol met sterren. Later gaan de de data filtreren om een duidelijker beeld te maken. \n",
    "\n",
    "Waarom is het figuur rond?\n",
    "\n",
    "Antwoord: Bij de Query heb je een centraalpunt geselecteerd en aangegeven dat de geselecteerde sterren binnen 5 graden van het centrum moet liggen. "
   ]
  },
  {
   "attachments": {},
   "cell_type": "markdown",
   "metadata": {},
   "source": [
    "# Afstand berekenen\n",
    "\n",
    "Deze code berekent de afstanden tot sterren met behulp van hun parallax. Parallax is de schijnbare verschuiving van een object tegen een achtergrond wanneer het wordt waargenomen vanuit twee verschillende punten. In astronomie wordt parallax gebruikt om afstanden tot nabijgelegen sterren te meten.\n",
    "\n",
    "Laten we de code regel voor regel doorlopen:\n",
    "\n",
    "- *parallax = gaia_df['parallax'].values * u.mas*: Hier wordt de parallaxwaarde voor elke ster opgehaald uit de Gaia dataset. De waarden zijn uitgedrukt in *milliboogseconden (mas (milli arc seconds))*, wat een maateenheid is voor hoekgrootte. De *parallax* is direct gerelateerd aan de afstand van een object: hoe groter de *parallax*, hoe dichter het object.\n",
    "- *distances = Distance(parallax=parallax, allow_negative=True)*: Dit is waar de daadwerkelijke afstandsberekening gebeurt. De *Distance* functie van de *Astropy bibliotheek* wordt gebruikt om de afstand tot elke ster te berekenen op basis van zijn *parallax*. De parameter *allow_negative=True* betekent dat de functie negatieve afstanden zal toelaten. Dit is meestal te wijten aan meetfouten in de parallax en het betekent niet dat de sterren echt een negatieve afstand hebben."
   ]
  },
  {
   "cell_type": "code",
   "execution_count": null,
   "metadata": {},
   "outputs": [],
   "source": [
    "# Bereken afstanden in parsecs met behulp van Astropy Distance\n",
    "parallax = gaia_df['parallax'].values * u.mas\n",
    "distances = Distance(parallax=parallax, allow_negative=True)\n"
   ]
  },
  {
   "attachments": {},
   "cell_type": "markdown",
   "metadata": {},
   "source": [
    "# Absolute magnitude berekenen\n",
    "\n",
    "Deze regel van code berekent de absolute magnitude van sterren op basis van hun schijnbare magnitude en afstand.\n",
    "\n",
    "De functie *absolute_magnitude()* (eerder gedefinieerd) wordt toegepast op de *schijnbare magnitude (gaia_df['phot_g_mean_mag'])* en de afstand van de sterren *(distances.pc)*. De schijnbare magnitude is de helderheid van een ster zoals waargenomen vanaf de aarde, terwijl de absolute magnitude de helderheid van een ster is zoals die zou worden waargenomen vanaf een afstand van 10 parsec."
   ]
  },
  {
   "cell_type": "code",
   "execution_count": null,
   "metadata": {},
   "outputs": [],
   "source": [
    "\n",
    "# Bereken absolute magnitudes\n",
    "abs_magnitudes = absolute_magnitude(gaia_df['phot_g_mean_mag'], distances.pc)"
   ]
  },
  {
   "attachments": {},
   "cell_type": "markdown",
   "metadata": {},
   "source": [
    "# HR-diagram maken (1)\n",
    "\n",
    "Maak een sprijdingsdiagram met op de horizontale as de kleur van de ster en op de verticale as de absolute magnitude van de ster. *'bp_rp'* is de kleur, deze zit in de *gaia_df* data. Geef het diagram labels en een titel. "
   ]
  },
  {
   "cell_type": "code",
   "execution_count": null,
   "metadata": {},
   "outputs": [],
   "source": [
    "# Create the HR-diagram with colored stars\n",
    "plt.figure(figsize=(6, 6))\n",
    "plt.scatter(   x-as    ,   y-as   , s=0.1, alpha=0.5)   # vervang x-as en y-as voor de waarde die daar hoort te staan. \n",
    "plt.gca().invert_yaxis()  # Helderste sterren bovenaan\n",
    "                                                        # Geef het diagram labels en een titel\n",
    "plt.show()"
   ]
  },
  {
   "attachments": {},
   "cell_type": "markdown",
   "metadata": {},
   "source": [
    "# Aanpassen\n",
    "Als je het diagram vergelijkt met de binas, lijkt het plaatje naar links geschoven. Dat komt omdat er in deze data ook sterren zijn met een kleur tot aan '6'. We gaan het diagram bijsnijden soor een selectie te maken van de data. \n",
    "\n",
    "Vul hieronder bij het xlimiet de maximale kleur in die je in het diagram zichtbaar wil hebben. "
   ]
  },
  {
   "cell_type": "code",
   "execution_count": null,
   "metadata": {},
   "outputs": [],
   "source": [
    "# Create the HR-diagram with colored stars\n",
    "plt.figure(figsize=(6, 6))\n",
    "plt.scatter(   x-as    ,   y-as   , s=0.1, alpha=0.5)   # vervang x-as en y-as voor de waarde die daar hoort te staan. \n",
    "plt.gca().invert_yaxis()  # Helderste sterren bovenaan\n",
    "\n",
    "plt.xlim(-0.5, .... )\n",
    "plt.show()"
   ]
  },
  {
   "cell_type": "code",
   "execution_count": null,
   "metadata": {},
   "outputs": [],
   "source": [
    "\n",
    "# Normalize 'bp_rp' values to the range [0, 1] for color mapping\n",
    "bp_rp_norm = (gaia_df['bp_rp'] - gaia_df['bp_rp'].min()) / (3.5 - gaia_df['bp_rp'].min())\n"
   ]
  },
  {
   "cell_type": "code",
   "execution_count": null,
   "metadata": {},
   "outputs": [],
   "source": [
    "# Create a color map from blue to red\n",
    "cmap = mcolors.LinearSegmentedColormap.from_list(\"blue_to_red\", [\"blue\", \"red\"])"
   ]
  },
  {
   "cell_type": "code",
   "execution_count": null,
   "metadata": {},
   "outputs": [],
   "source": [
    "# Create the HR-diagram with colored stars\n",
    "fig, ax = plt.subplots(figsize=(6, 6))\n",
    "scatter = ax.scatter(   x-as    ,   y-as   , s=1, c=bp_rp_norm, cmap=cmap, alpha=0.6)\n",
    " \n",
    "ax.invert_yaxis()  # Helderste sterren bovenaan\n",
    "# Labels en titels\n",
    "ax.set_xlim(-0.5, 3.5)\n",
    "ax.set_ylim(18, -5)\n",
    "ax.grid()\n",
    "\n",
    "plt.show()"
   ]
  }
 ],
 "metadata": {
  "kernelspec": {
   "display_name": "Python 3",
   "language": "python",
   "name": "python3"
  },
  "language_info": {
   "codemirror_mode": {
    "name": "ipython",
    "version": 3
   },
   "file_extension": ".py",
   "mimetype": "text/x-python",
   "name": "python",
   "nbconvert_exporter": "python",
   "pygments_lexer": "ipython3",
   "version": "3.11.2"
  },
  "orig_nbformat": 4
 },
 "nbformat": 4,
 "nbformat_minor": 2
}
